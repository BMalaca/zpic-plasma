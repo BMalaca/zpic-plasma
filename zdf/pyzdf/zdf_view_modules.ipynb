{
 "cells": [
  {
   "cell_type": "markdown",
   "metadata": {},
   "source": [
    "This notebook is an extension to the previous notebook [zdf_view.ipynb](zdf_view.ipynb). It will describe the changes and also comment on some aspects not mentioned in the previous version.\n",
    "\n",
    "<div class=\"alert-info\">\n",
    "You can use links to connect notebooks together. This might be a good way of teaching the students some different things and have one notebook with an outline. In addition, note that you can use some specific `HTML` markups (like this one) to highlight different things. Be aware that it might be dependend on the jupyter version.\n",
    "</div>"
   ]
  },
  {
   "cell_type": "markdown",
   "metadata": {},
   "source": [
    "# Plotting ZDF data files\n",
    "\n",
    "To Plot ZDF data files you must first import the ZDF module `pyzdf`.\n",
    "\n",
    "\n",
    "<div class=\"alert-warning\">\n",
    "Compared to previous implementation the module has been named `pyzdf`. The high-level APIs has been moved to `pyzdf.utils`.\n",
    "</div>"
   ]
  },
  {
   "cell_type": "code",
   "execution_count": null,
   "metadata": {
    "collapsed": true
   },
   "outputs": [],
   "source": [
    "from pyzdf.utils import zdf_list"
   ]
  },
  {
   "cell_type": "code",
   "execution_count": null,
   "metadata": {
    "collapsed": false
   },
   "outputs": [],
   "source": [
    "# give content in a nice formatted way\n",
    "zdf_list(\"J3-000500.zdf\")"
   ]
  },
  {
   "cell_type": "markdown",
   "metadata": {},
   "source": [
    "For reading the data, you can use `zdf_read_grid` which is located in `pyzdf.utils`. It has the same interface as before."
   ]
  },
  {
   "cell_type": "code",
   "execution_count": null,
   "metadata": {
    "collapsed": true
   },
   "outputs": [],
   "source": [
    "from pyzdf.utils import zdf_read_grid\n",
    "(data, info) = zdf_read_grid(\"J3-000500.zdf\")"
   ]
  },
  {
   "cell_type": "markdown",
   "metadata": {},
   "source": [
    "The data type has not changed and is still a `numpy` array and the info is a `dict`."
   ]
  },
  {
   "cell_type": "code",
   "execution_count": null,
   "metadata": {
    "collapsed": false
   },
   "outputs": [],
   "source": [
    "print(type(data))"
   ]
  },
  {
   "cell_type": "markdown",
   "metadata": {},
   "source": [
    "I will just use `display` (something from IPython) to represent the data better."
   ]
  },
  {
   "cell_type": "code",
   "execution_count": null,
   "metadata": {
    "collapsed": false
   },
   "outputs": [],
   "source": [
    "from IPython.display import display\n",
    "\n",
    "display(info)"
   ]
  },
  {
   "cell_type": "markdown",
   "metadata": {},
   "source": [
    "## Plotting with Bokeh\n",
    "\n",
    "At this level I will just use the previous things without a deeper review. Just a small note\n",
    "\n",
    "<div class=\"alert-warning\">\n",
    "Use `output_notebook()` method in an own cell. As far as I can remember the Bokeh guys recommend that, because it is actually getting a lot of JavaScript things and putting them in the notebook. It is not wise to do it at every cell iteration compared to redrawing a figure.\n",
    "</div>"
   ]
  },
  {
   "cell_type": "code",
   "execution_count": null,
   "metadata": {
    "collapsed": true
   },
   "outputs": [],
   "source": [
    "import numpy as np\n",
    "from bokeh.io import push_notebook, show, output_notebook"
   ]
  },
  {
   "cell_type": "code",
   "execution_count": null,
   "metadata": {
    "collapsed": false
   },
   "outputs": [],
   "source": [
    "output_notebook()"
   ]
  },
  {
   "cell_type": "code",
   "execution_count": null,
   "metadata": {
    "collapsed": true
   },
   "outputs": [],
   "source": [
    "from bokeh.plotting import figure\n",
    "from bokeh.models import LinearColorMapper, BasicTicker, ColorBar\n",
    "from bokeh.core.enums import TextBaseline"
   ]
  },
  {
   "cell_type": "code",
   "execution_count": null,
   "metadata": {
    "collapsed": false
   },
   "outputs": [],
   "source": [
    "p = figure(x_range=(info['grid']['axis'][0]['min'], info['grid']['axis'][0]['max']), \n",
    "           y_range=(info['grid']['axis'][1]['min'], info['grid']['axis'][1]['max']),\n",
    "           toolbar_sticky=False)\n",
    "p.title.text = info['grid']['label']\n",
    "\n",
    "p.xaxis.axis_label = info['grid']['axis'][0]['label']\n",
    "p.yaxis.axis_label = info['grid']['axis'][1]['label']\n",
    "\n",
    "color_map = LinearColorMapper(palette=\"Viridis256\", low = np.amin(data), high = np.amax(data))\n",
    "\n",
    "p.image(image=[data], x = 0, y = 0, \n",
    "        dw = info['grid']['axis'][0]['max'], dh = info['grid']['axis'][1]['max'], \n",
    "        color_mapper = color_map )\n",
    "\n",
    "color_bar = ColorBar(color_mapper = color_map, ticker = BasicTicker(),\n",
    "                     location = (0,0))\n",
    "p.add_layout( color_bar, 'right')\n",
    "\n",
    "t = show(p, notebook_handle = True)"
   ]
  },
  {
   "cell_type": "markdown",
   "metadata": {},
   "source": [
    "## Plotting with Matplotlib\n",
    "\n",
    "<div class=\"alert-info\">\n",
    "Same thing as mentioned before. Imports and config settings are better in one extra cell.\n",
    "</div>"
   ]
  },
  {
   "cell_type": "code",
   "execution_count": null,
   "metadata": {
    "collapsed": true
   },
   "outputs": [],
   "source": [
    "import matplotlib.pyplot as plt\n",
    "%matplotlib notebook"
   ]
  },
  {
   "cell_type": "code",
   "execution_count": null,
   "metadata": {
    "collapsed": false
   },
   "outputs": [],
   "source": [
    "fig = plt.figure( figsize = (8,6), dpi = 80)\n",
    "fig.subplots_adjust( top = 0.85 )\n",
    "fig.set_facecolor(\"#FFFFFF\") \n",
    "\n",
    "timeLabel = r'$\\sf{t = ' + str( info['iteration']['t'] ) + \\\n",
    "                     ' ['+info['iteration']['tunits']+r']}$'\n",
    "plotTitle = r'$\\sf{' + info['grid']['label'] + r'}$' + '\\n' + timeLabel\n",
    "\n",
    "plotArea = fig.add_subplot(1,1,1)\n",
    "plotArea.set_title(plotTitle, fontsize = 16)\n",
    "\n",
    "colorMap = plotArea.imshow(data, cmap = plt.cm.jet, interpolation = 'nearest', \n",
    "                           origin = 'lower')\n",
    "\n",
    "colorBar = fig.colorbar(colorMap)\n",
    "colorBar.set_label(r'$\\sf{'+info['grid']['label'] +\n",
    "        ' [' + info['grid']['units'] + r']}$', fontsize = 14)\n",
    "\n",
    "xlabel = info['grid']['axis'][0]['label'] + '[' + info['grid']['axis'][0]['units'] + ']'\n",
    "ylabel = info['grid']['axis'][1]['label'] + '[' + info['grid']['axis'][1]['units'] + ']'\n",
    "plt.xlabel(r'$\\sf{'+xlabel+r'}$', fontsize = 14)\n",
    "plt.ylabel(r'$\\sf{'+ylabel+r'}$', fontsize = 14)"
   ]
  }
 ],
 "metadata": {
  "celltoolbar": "Initialisation Cell",
  "kernelspec": {
   "display_name": "Python 3",
   "language": "python",
   "name": "python3"
  },
  "language_info": {
   "codemirror_mode": {
    "name": "ipython",
    "version": 3
   },
   "file_extension": ".py",
   "mimetype": "text/x-python",
   "name": "python",
   "nbconvert_exporter": "python",
   "pygments_lexer": "ipython3",
   "version": "3.6.0"
  },
  "latex_envs": {
   "bibliofile": "biblio.bib",
   "cite_by": "apalike",
   "current_citInitial": 1,
   "eqLabelWithNumbers": true,
   "eqNumInitial": 0
  },
  "toc": {
   "toc_cell": false,
   "toc_number_sections": true,
   "toc_threshold": 4,
   "toc_window_display": false
  }
 },
 "nbformat": 4,
 "nbformat_minor": 2
}
