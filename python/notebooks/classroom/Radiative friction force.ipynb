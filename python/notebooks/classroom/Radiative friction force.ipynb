{
 "cells": [
  {
   "cell_type": "markdown",
   "metadata": {},
   "source": [
    "## Radiative friction force\n",
    "2D simulations of electron motion in a strong magnetic field\n",
    "***"
   ]
  },
  {
   "cell_type": "markdown",
   "metadata": {},
   "source": [
    "#### 1- What is a strong field in Quantum Electrodynamics (QED)?\n",
    "\n",
    "To quantify how strong is a field in QED, we define the Schwinger field $B_S$. Above this amplitude, the field  is large enough to create electron-positron pairs from vacuum.\n",
    "\\begin{equation*}\n",
    "B_S = \\frac{m^2c^2}{\\hbar e}\\sim 10^9 \\, \\rm T \\, \\rm (Tesla)\n",
    "\\end{equation*}\n",
    "It is impossible to produce magnetic fields with such amplitude with conventional methods. However, it is possible to achieve using relativistic particles. For an electron of kinetic energy $(\\gamma-1) mc^2$ (where $\\gamma$ is the Lorentz factor), the field amplitude in the rest-frame of the electron is boosted by a factor $\\gamma$. It is thus convenient to define the quantum parameter of an electron, denoted $\\chi$\n",
    "\\begin{equation*}\n",
    "\\chi = \\frac{\\gamma B}{B_S}\n",
    "\\end{equation*}\n",
    "where $\\gamma B$ is the magnetic field in the rest-frame of the electron, and $B_S$ the Schwinger field.\n",
    "There are two regimes to consider:\n",
    "- $\\chi \\lesssim 0.1 $: the field is weak and electrons radiate x-ray photons in the classical regime\n",
    "- $\\chi \\gtrsim 0.1 $: the field is strong and electrons radiate $\\gamma$-rays that can decay into electron-positron pairs\n",
    "\n",
    "We will restrict our analysis to the first case of weak field, namely $\\chi \\lesssim 0.1$.\n",
    "\n",
    "#### 2- Electron dynamics in a strong magnetic field\n",
    "\n",
    "We consider a simple problem with two elements\n",
    "- a single electron with an initial velocity $\\vec{v}_0$ and initial Lorentz factor $\\gamma_0$\n",
    "- the electron propagates in a perpendicular magnetic field of amplitude $B$\n",
    "\n",
    "Let's first recall what happens when the magnetic field is weak, namely $\\chi \\ll 1$. The electron experiences only the Lorentz force denoted $\\vec{F}$. It can be expressed as $\\vec{F}=-e\\vec{v}\\times \\vec{B}$. The electron has a circular trajectory with a radius $r=\\gamma mc/(eB)$ (Larmor radius), see Figure (a)."
   ]
  },
  {
   "cell_type": "markdown",
   "metadata": {},
   "source": [
    "<img src=\"radiative_friction_force.png\"  style=\"width: 900px; float: left;\" />"
   ]
  },
  {
   "cell_type": "markdown",
   "metadata": {},
   "source": [
    "If the magnetic field amplitude becomes large enough, for instance $\\chi \\lesssim 0.1 $, the electron is strongly deflected and therefore radiates x-ray photons. This emission is known as Synchrotron radiation, see Figure (b). The radiation emitted has a back-reaction on the electron trajectory. It slows down the electron, and it is possible to quantify this process by a radiative friction force denoted $\\vec{F}_r$\n",
    "\\begin{equation*}\n",
    "\\vec{F}_r = -k \\chi^2 \\vec{v}\n",
    "\\end{equation*}\n",
    "We can note several things on this expression:\n",
    "- the factor $k$ is a constant, defined as $k=2m^2c^2\\alpha_f/\\hbar$\n",
    "- $F_r$ is proportional to $\\chi^2$, this means that the stronger the field, the higher the amplitude of the force\n",
    "- the direction is $-\\vec{v}$, opposite to the velocity of the electron, the force slows down the electron\n",
    "- this expression is an approximation valid in the classical limit $\\chi \\lesssim 0.1 $.\n",
    "\n",
    "This force is represented in Figure (b). It modifies the circular trajectory of the electron identified in Fgiure (a). \n",
    "We are going to use numerical simulation to explore the dynamics of the electron in a strong field. In the equation of motion, we have two forces, the Lorentz force $\\vec{F}$ and the radiative friction force $\\vec{F}_r$\n",
    "\\begin{equation*}\n",
    "\\frac{d \\vec{p}}{dt} = \\vec{F} + \\vec{F}_{\\mathcal{r}} = -e \\vec{v} \\times \\vec{B} - k \\chi^2 \\vec{v}\n",
    "\\end{equation*}\n",
    "We resort to numerical simulation, but theoretical solution to this problem exist."
   ]
  },
  {
   "cell_type": "markdown",
   "metadata": {},
   "source": [
    "#### 3- Simulation of electron motion in a strong $B$ field $\\chi \\lesssim 0.1$"
   ]
  },
  {
   "cell_type": "markdown",
   "metadata": {},
   "source": [
    "Run the next cell to initialise the simulation.\n",
    "In this cell, we set up two important physical quantitites: the inital momentum of the electron, denoted ufl and the initial magnetic field, denoted B."
   ]
  },
  {
   "cell_type": "code",
   "execution_count": 1,
   "metadata": {},
   "outputs": [],
   "source": [
    "# Add zpic library to path\n",
    "import sys\n",
    "sys.path.append(\"../../lib\")\n",
    "\n",
    "# Get ZPIC 2D with radiative friction force\n",
    "import em2d_rr as zpic\n",
    "import numpy as np\n",
    "\n",
    "# Time step\n",
    "dt = 0.01\n",
    "\n",
    "# Simulation time\n",
    "tmax = 4*2.*np.pi\n",
    "\n",
    "# Number of cells\n",
    "nx  = [500,500]\n",
    "\n",
    "# Simulation box size\n",
    "box = [10,10]\n",
    "\n",
    "## Plasma slab\n",
    "# Particles per cell\n",
    "ppc = [4,4]\n",
    "\n",
    "# Define a custom density profile\n",
    "def custom_xn0(x):\n",
    "    if (x>4.9 and x<5.1):\n",
    "        return 1.0\n",
    "    else:\n",
    "        return 0.0\n",
    "\n",
    "def custom_yn0(y):\n",
    "    if (y>0.0 and y<0.1):\n",
    "        return 1.0\n",
    "    else:\n",
    "        return 0.0\n",
    "\n",
    "# Use the custom density profile\n",
    "dens = zpic.Density(type = \"custom\", custom_x = custom_xn0, custom_y = custom_yn0 )\n",
    "\n",
    "# Set up a super low density to avoid any plasma effects\n",
    "dens.n=1e-8\n",
    "\n",
    "# Initial momentum of the electron\n",
    "ufl=100.\n",
    "\n",
    "# Initial Lorentz factor of the electron\n",
    "gamma0 = np.sqrt(1.+ufl**2)\n",
    "\n",
    "# Create the species\n",
    "electrons = zpic.Species( \"electrons\", m_q=-1,ppc= ppc,\n",
    "                           density = dens,ufl=[ufl,0,0])\n",
    "\n",
    "# Initialize simulation\n",
    "sim = zpic.Simulation( nx, box, dt, species = (electrons) )\n",
    "\n",
    "# Set the sorting period to 0 in order to track the particle's trajectories \n",
    "electrons.n_sort=0\n",
    "\n",
    "# Setup the external fields (Remember B is perpendicular to the simulation plane)\n",
    "B=[0,0,25]\n",
    "ext = zpic.ExternalField(B_type = 'uniform', B_0 = B)\n",
    "sim.emf.set_ext_fld( ext )"
   ]
  },
  {
   "cell_type": "markdown",
   "metadata": {},
   "source": [
    "Question 1: Read carefully the cell above. What is the initial momentum of the electron? (Erase the wrong answers)\n",
    "- $\\vec{p}=(100,0,0)$\n",
    "- $\\vec{p}=(0,100,0)$\n",
    "- $\\vec{p}=(0,0,100)$"
   ]
  },
  {
   "cell_type": "markdown",
   "metadata": {},
   "source": [
    "Question 2: What is the initial magnetic field? (Erase the wrong answers)\n",
    "- $\\vec{B}=(0,0,25)$\n",
    "- $\\vec{B}=(0,25,0)$\n",
    "- $\\vec{B}=(25,0,0)$"
   ]
  },
  {
   "cell_type": "markdown",
   "metadata": {},
   "source": [
    "Execute the next cell to run the simulation"
   ]
  },
  {
   "cell_type": "code",
   "execution_count": 2,
   "metadata": {},
   "outputs": [
    {
     "name": "stdout",
     "output_type": "stream",
     "text": [
      "n = 2513, t = 25.13\r"
     ]
    }
   ],
   "source": [
    "# Arrays to store the particles trajectories\n",
    "ele_part_rep =[]\n",
    "\n",
    "# Here, we run the simulation and store the trajectory\n",
    "while sim.t < tmax:\n",
    "    \n",
    "    # Print advance\n",
    "    print('n = {:d}, t = {:g}'.format(sim.n,sim.t), end = '\\r')\n",
    "    \n",
    "    #store the electron trajectories\n",
    "    ele_part_rep.append(electrons.particles[10].copy())\n",
    "\n",
    "    # Run one time step\n",
    "    sim.iter()"
   ]
  },
  {
   "cell_type": "markdown",
   "metadata": {},
   "source": [
    "Run the next cell to format the electron trajectory into a python array"
   ]
  },
  {
   "cell_type": "code",
   "execution_count": 3,
   "metadata": {},
   "outputs": [],
   "source": [
    "# Convert trajectories to position arrays\n",
    "e_posx_t=[(i['ix']+i['x'])*box[0]/nx[0] for i in ele_part_rep]\n",
    "e_posy_t=[(i['iy']+i['y'])*box[1]/nx[1] for i in ele_part_rep]\n",
    "\n",
    "# Extract the energy of particles from the trajectories\n",
    "e_gamma_t = [np.sqrt(1.0+i['ux']**2+i['uy']**2+i['uz']**2) for i in ele_part_rep]\n",
    "\n",
    "# Create time array\n",
    "t=np.linspace(0,sim.t,sim.n)"
   ]
  },
  {
   "cell_type": "markdown",
   "metadata": {},
   "source": [
    "#### 4- Plot and Analyse the electron trajectory"
   ]
  },
  {
   "cell_type": "markdown",
   "metadata": {},
   "source": [
    "Run the next cell to plot the trajectory of the electron in the strong magnetic field"
   ]
  },
  {
   "cell_type": "code",
   "execution_count": 1,
   "metadata": {
    "scrolled": true
   },
   "outputs": [
    {
     "ename": "NameError",
     "evalue": "name 'e_posx_t' is not defined",
     "output_type": "error",
     "traceback": [
      "\u001b[0;31m---------------------------------------------------------------------------\u001b[0m",
      "\u001b[0;31mNameError\u001b[0m                                 Traceback (most recent call last)",
      "\u001b[0;32m/var/folders/23/z0tnhw4x1511mgrl88wph17h0000gn/T/ipykernel_936/3773845475.py\u001b[0m in \u001b[0;36m<module>\u001b[0;34m\u001b[0m\n\u001b[1;32m     17\u001b[0m \u001b[0;34m\u001b[0m\u001b[0m\n\u001b[1;32m     18\u001b[0m \u001b[0;31m# Electron trajectory\u001b[0m\u001b[0;34m\u001b[0m\u001b[0;34m\u001b[0m\u001b[0;34m\u001b[0m\u001b[0m\n\u001b[0;32m---> 19\u001b[0;31m \u001b[0max\u001b[0m\u001b[0;34m[\u001b[0m\u001b[0;36m0\u001b[0m\u001b[0;34m]\u001b[0m\u001b[0;34m.\u001b[0m\u001b[0mplot\u001b[0m\u001b[0;34m(\u001b[0m\u001b[0me_posx_t\u001b[0m\u001b[0;34m,\u001b[0m\u001b[0me_posy_t\u001b[0m\u001b[0;34m,\u001b[0m\u001b[0mlw\u001b[0m\u001b[0;34m=\u001b[0m\u001b[0;36m2\u001b[0m\u001b[0;34m)\u001b[0m\u001b[0;34m\u001b[0m\u001b[0;34m\u001b[0m\u001b[0m\n\u001b[0m\u001b[1;32m     20\u001b[0m \u001b[0max\u001b[0m\u001b[0;34m[\u001b[0m\u001b[0;36m0\u001b[0m\u001b[0;34m]\u001b[0m\u001b[0;34m.\u001b[0m\u001b[0mscatter\u001b[0m\u001b[0;34m(\u001b[0m\u001b[0me_posx_t\u001b[0m\u001b[0;34m[\u001b[0m\u001b[0;34m-\u001b[0m\u001b[0;36m1\u001b[0m\u001b[0;34m]\u001b[0m\u001b[0;34m,\u001b[0m\u001b[0me_posy_t\u001b[0m\u001b[0;34m[\u001b[0m\u001b[0;34m-\u001b[0m\u001b[0;36m1\u001b[0m\u001b[0;34m]\u001b[0m\u001b[0;34m)\u001b[0m\u001b[0;34m\u001b[0m\u001b[0;34m\u001b[0m\u001b[0m\n\u001b[1;32m     21\u001b[0m \u001b[0;34m\u001b[0m\u001b[0m\n",
      "\u001b[0;31mNameError\u001b[0m: name 'e_posx_t' is not defined"
     ]
    },
    {
     "data": {
      "image/png": "[encoded data removed]",
      "text/plain": [
       "<Figure size 1680x840 with 2 Axes>"
      ]
     },
     "metadata": {
      "needs_background": "light"
     },
     "output_type": "display_data"
    }
   ],
   "source": [
    "import matplotlib.pyplot as plt\n",
    "import matplotlib as mpl\n",
    "import matplotlib.gridspec as gridspec\n",
    "\n",
    "# Define a function that returns the theoretical energy loss\n",
    "def solution(gamma0, B, t):\n",
    "    ini = (gamma0 - 1.) / (gamma0 + 1.)\n",
    "    k_damp = 1.1237684e-8\n",
    "    tmp = -2. * k_damp * B**2 * t\n",
    "    return (1. + ini * np.exp(-2. * k_damp * B**2 * t)) / (1. - ini * np.exp(-2. * k_damp * B**2 * t))\n",
    "\n",
    "# Set up the plot\n",
    "fig, ax=plt.subplots(1, 2, figsize=(14, 7), dpi=120)\n",
    "plt.rcParams.update({'font.size': 18})\n",
    "\n",
    "## Left part: xy trajectories\n",
    "\n",
    "# Electron trajectory\n",
    "ax[0].plot(e_posx_t,e_posy_t,lw=2)\n",
    "ax[0].scatter(e_posx_t[-1],e_posy_t[-1])\n",
    "\n",
    "## Right part: evolution of energy\n",
    "ax[1].plot(t,e_gamma_t,lw=2,label=\"electron\")\n",
    "ax[1].plot(t,solution(gamma0, B[2], t),lw=2,label=\"theory\", c='k', ls='--')\n",
    "\n",
    "# Setup labels, grids, and others\n",
    "ax[0].grid(True,ls=\"--\")\n",
    "ax[0].set_xlabel(\"$x\\,[c/\\omega_0]$\")\n",
    "ax[0].set_ylabel(\"$y\\,[c/\\omega_0]$\")\n",
    "ax[0].set_aspect('equal', 'datalim')\n",
    "ax[0].set_title(\"t={:.2f}$1/\\omega_0$\".format(sim.t))\n",
    "\n",
    "ax[1].grid(True,ls=\"--\")\n",
    "ax[1].set_xlabel(\"$t\\,[1/\\omega_0]$\")\n",
    "ax[1].set_ylabel(\"$\\gamma$\")\n",
    "#ax[1].set_ylim([0.0, gamma0*1.1])\n",
    "ax[1].legend()\n",
    "\n",
    "plt.show()"
   ]
  },
  {
   "cell_type": "markdown",
   "metadata": {},
   "source": [
    "Question 3: What can you observe about the electron energy during the simulation? We recall that the kinetic energy of an electron is given by $(\\gamma-1)mc^2$. (Erase the wrong answers)\n",
    "- The energy of the electron increases over time\n",
    "- The energy of the electron decreases over time"
   ]
  },
  {
   "cell_type": "markdown",
   "metadata": {},
   "source": [
    "Question 4 (more open): Can you explain why the energy of the electron is not constant? "
   ]
  },
  {
   "cell_type": "markdown",
   "metadata": {},
   "source": [
    "#### 5- Practise"
   ]
  },
  {
   "cell_type": "markdown",
   "metadata": {},
   "source": [
    "Try first to increase the amplitude of the magnetic field from $B=(0,0,25)$ to $B=(0,0,50)$.\n",
    "\n",
    "Plot the electron trajectory and explore the physics!"
   ]
  }
 ],
 "metadata": {
  "kernelspec": {
   "display_name": "Python 3 (ipykernel)",
   "language": "python",
   "name": "python3"
  },
  "language_info": {
   "codemirror_mode": {
    "name": "ipython",
    "version": 3
   },
   "file_extension": ".py",
   "mimetype": "text/x-python",
   "name": "python",
   "nbconvert_exporter": "python",
   "pygments_lexer": "ipython3",
   "version": "3.7.11"
  },
  "vscode": {
   "interpreter": {
    "hash": "9921c6a92065c4977279cf39b945c8d651ff3d526c2c37c277e34fb9b1e78dfc"
   }
  }
 },
 "nbformat": 4,
 "nbformat_minor": 4
}
