{
 "cells": [
  {
   "cell_type": "markdown",
   "metadata": {},
   "source": [
    "# Density profiles\n",
    "\n",
    "This notebook illustrates the use of the multiple density profiles available in ZPIC"
   ]
  },
  {
   "cell_type": "markdown",
   "metadata": {},
   "source": [
    "Simulation parameters"
   ]
  },
  {
   "cell_type": "code",
   "execution_count": 4,
   "metadata": {},
   "outputs": [],
   "source": [
    "import em1d\n",
    "import numpy as np\n",
    "\n",
    "# Custom density profile\n",
    "def custom_n0(x):\n",
    "    return 1.0 + 0.5*np.sin(2*x/np.pi)*np.sin(x/np.pi) \n",
    "\n",
    "# Time step\n",
    "dt = 0.019\n",
    "tmax = 10.0\n",
    "\n",
    "# Simulation box\n",
    "nx  = 64\n",
    "box = 20.0\n",
    "\n",
    "# Diagnostic frequency\n",
    "ndump = 100\n",
    "\n",
    "# Background plasma\n",
    "#density = em1d.Density( type = em1d.Density.uniform )\n",
    "#density = em1d.Density( type = em1d.Density.step, start = 17.5 )\n",
    "#density = em1d.Density( type = em1d.Density.slab, start = 17.5, end = 22.5 )\n",
    "#density = em1d.Density( type = em1d.Density.linear_ramp, start = 17.5, end = 22.5, ramp = [1.0,2.0] )\n",
    "density = em1d.Density( type = em1d.Density.custom, custom = custom_n0 )\n",
    "\n",
    "electrons = em1d.Species( \"electrons\", -1.0, 128, density = density )\n",
    "\n",
    "# Initialize simulation data\n",
    "sim = em1d.Simulation( nx, box, dt, tmax, electrons )\n",
    "\n",
    "# Set moving window\n",
    "sim.set_moving_window()\n",
    "\n",
    "# Diagnostics\n",
    "def report( sim ):\n",
    "    if ( sim.n % ndump == 0 ):\n",
    "\n",
    "        # Charge density\n",
    "        electrons.report( em1d.Species.charge )\n",
    "        \n",
    "        # raw particle data\n",
    "        electrons.report( em1d.Species.particles )"
   ]
  },
  {
   "cell_type": "markdown",
   "metadata": {},
   "source": [
    "Run simulation"
   ]
  },
  {
   "cell_type": "code",
   "execution_count": 5,
   "metadata": {},
   "outputs": [
    {
     "name": "stdout",
     "output_type": "stream",
     "text": [
      "Starting simulation...\n",
      "n = 526, t = 9.994\n",
      "Simulation completed.\n"
     ]
    }
   ],
   "source": [
    "sim.run(report)"
   ]
  },
  {
   "cell_type": "markdown",
   "metadata": {},
   "source": [
    "## Charge Density"
   ]
  },
  {
   "cell_type": "code",
   "execution_count": 7,
   "metadata": {
    "scrolled": true
   },
   "outputs": [
    {
     "data": {
      "image/png": "[encoded data removed]",
      "text/plain": [
       "<matplotlib.figure.Figure at 0xa1d8d32e8>"
      ]
     },
     "metadata": {},
     "output_type": "display_data"
    }
   ],
   "source": [
    "import zdf\n",
    "import matplotlib.pyplot as plt\n",
    "\n",
    "(data,info) = zdf.read_grid(\"electrons/charge-000500.zdf\")\n",
    "\n",
    "data = np.abs(data)\n",
    "info['grid']['label'] = '|'+info['grid']['label']+'|'\n",
    "\n",
    "plt.plot(np.linspace(info['grid']['axis'][0]['min'], \n",
    "                     info['grid']['axis'][0]['max'], \n",
    "                     num = info['grid']['nx'][0] ),\n",
    "         data )\n",
    "\n",
    "xlabel = \"{:s}\\,[{:s}]\".format(info['grid']['axis'][0]['label'],info['grid']['axis'][0]['units'])\n",
    "ylabel = \"{:s}\\,[{:s}]\".format(info['grid']['label'], info['grid']['units'])\n",
    "\n",
    "title = info['grid']['label']\n",
    "timeLabel = \"t = {:g}\\,[{:s}]\".format(info['iteration']['t'],info['iteration']['tunits'])\n",
    "\n",
    "plt.title(r'$\\sf{' + title + r'}$' + '\\n' + r'$\\sf{'+ timeLabel+ r'}$')\n",
    "plt.xlabel(r'$\\sf{' +xlabel+ r'}$')\n",
    "plt.ylabel(r'$\\sf{' +ylabel+ r'}$')\n",
    "\n",
    "plt.grid(True)\n",
    "plt.show()"
   ]
  },
  {
   "cell_type": "code",
   "execution_count": null,
   "metadata": {
    "collapsed": true
   },
   "outputs": [],
   "source": []
  }
 ],
 "metadata": {
  "kernelspec": {
   "display_name": "Python 3",
   "language": "python",
   "name": "python3"
  },
  "language_info": {
   "codemirror_mode": {
    "name": "ipython",
    "version": 3
   },
   "file_extension": ".py",
   "mimetype": "text/x-python",
   "name": "python",
   "nbconvert_exporter": "python",
   "pygments_lexer": "ipython3",
   "version": "3.6.3"
  }
 },
 "nbformat": 4,
 "nbformat_minor": 2
}
