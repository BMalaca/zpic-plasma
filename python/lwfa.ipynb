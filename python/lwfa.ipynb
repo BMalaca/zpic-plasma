{
 "cells": [
  {
   "cell_type": "markdown",
   "metadata": {},
   "source": [
    "# LWFA Simulation"
   ]
  },
  {
   "cell_type": "markdown",
   "metadata": {},
   "source": [
    "Simulation parameters"
   ]
  },
  {
   "cell_type": "code",
   "execution_count": 1,
   "metadata": {},
   "outputs": [
    {
     "name": "stdout",
     "output_type": "stream",
     "text": [
      "Running simulation up to t = 22.8 ...\n",
      "n = 1201, t = 22.819\n",
      "Done.\n"
     ]
    }
   ],
   "source": [
    "import em1d\n",
    "import numpy as np\n",
    "\n",
    "# Time step\n",
    "dt = 0.019\n",
    "tmax = 22.8\n",
    "\n",
    "# Simulation box\n",
    "nx  = 1000\n",
    "box = 20.0\n",
    "\n",
    "# Diagnostic frequency\n",
    "ndump = 50\n",
    "\n",
    "# Background plasma\n",
    "\n",
    "ppc = 128 # Particles per cell\n",
    "\n",
    "electrons = em1d.Species( \"electrons\", -1.0, ppc, density = em1d.Density( type = em1d.Density.step, start = 20.0))\n",
    "\n",
    "# Diagnostics\n",
    "def rep( sim ):\n",
    "    if ( sim.n % ndump == 0 ):\n",
    "        \n",
    "        # All electric field components\n",
    "        sim.emf.report( em1d.EMF.efld, 0 )\n",
    "        sim.emf.report( em1d.EMF.efld, 1 )\n",
    "        sim.emf.report( em1d.EMF.efld, 2 )\n",
    "        \n",
    "        # Charge density\n",
    "        electrons.report( em1d.Species.charge )\n",
    "        \n",
    "        # x1u1 phasespace\n",
    "        electrons.report( em1d.phasespace( em1d.Species.x1, em1d.Species.u1),\n",
    "                          pha_nx = [1024,512], pha_range = [[0.0,20.0],[-2.0,2.0]])\n",
    "\n",
    "# Initialize simulation data\n",
    "sim = em1d.Simulation( nx, box, dt, electrons, report = rep )\n",
    "\n",
    "# Add laser pulse\n",
    "sim.add_laser( em1d.Laser( start = 17.0, fwhm = 2.0, a0 = 2.0, omega0 = 10.0, polarization = np.pi/2 ))\n",
    "\n",
    "# Set moving window\n",
    "sim.set_moving_window()\n",
    "\n",
    "# Set current smoothing\n",
    "sim.set_smooth( em1d.Smooth(xtype = em1d.Smooth.compensated, xlevel = 4) )\n",
    "\n",
    "# Run the simulation\n",
    "sim.run( tmax )\n"
   ]
  },
  {
   "cell_type": "markdown",
   "metadata": {},
   "source": [
    "### Accelerating Gradient"
   ]
  },
  {
   "cell_type": "code",
   "execution_count": null,
   "metadata": {},
   "outputs": [],
   "source": [
    "import zdf\n",
    "import matplotlib.pyplot as plt\n",
    "import numpy as np\n",
    "\n",
    "(data,info) = zdf.read(\"EMF/E1-001200.zdf\")\n",
    "\n",
    "dx = (info.grid.axis[0].max - info.grid.axis[0].min ) / info.grid.nx[0]\n",
    "xmin = info.grid.axis[0].min + dx/2\n",
    "xmax = info.grid.axis[0].max - dx/2\n",
    "\n",
    "plt.plot(np.linspace(xmin, xmax, num = info.grid.nx[0]), data )\n",
    "\n",
    "xlabel = \"{:s}\\,[{:s}]\".format(info.grid.axis[0].label,info.grid.axis[0].units)\n",
    "ylabel = \"{:s}\\,[{:s}]\".format(info.grid.label, info.grid.units)\n",
    "\n",
    "title = info.grid.label\n",
    "timeLabel = \"t = {:g}\\,[{:s}]\".format(info.iteration.t,info.iteration.tunits)\n",
    "\n",
    "plt.title(r'$\\sf{' + title + r'}$' + '\\n' + r'$\\sf{'+ timeLabel+ r'}$')\n",
    "plt.xlabel(r'$\\sf{' +xlabel+ r'}$')\n",
    "plt.ylabel(r'$\\sf{' +ylabel+ r'}$')\n",
    "\n",
    "plt.grid(True)\n",
    "plt.show()"
   ]
  },
  {
   "cell_type": "markdown",
   "metadata": {},
   "source": [
    "### Electron phasespace density"
   ]
  },
  {
   "cell_type": "code",
   "execution_count": null,
   "metadata": {},
   "outputs": [],
   "source": [
    "import matplotlib.pyplot as plt\n",
    "import numpy as np\n",
    "\n",
    "(data,info) = zdf.read(\"electrons/x1u1-001200.zdf\")\n",
    "\n",
    "plt.imshow( data, cmap = plt.cm.Spectral, interpolation = 'nearest', origin = 'lower',\n",
    "          extent = ( info.grid.axis[0].min, info.grid.axis[0].max,\n",
    "                     info.grid.axis[1].min, info.grid.axis[1].max),\n",
    "          aspect = 'auto')\n",
    "\n",
    "zlabel = \"{:s}\\,[{:s}]\".format(info.grid.label,info.grid.units)\n",
    "plt.colorbar().set_label(r'$\\sf{' +zlabel+ r'}$')\n",
    "\n",
    "title = info.grid.label\n",
    "timeLabel = \"t = {:g}\\,[{:s}]\".format(info.iteration.t,info.iteration.tunits)\n",
    "\n",
    "plt.title(r'$\\sf{' + title + r'}$' + '\\n' + r'$\\sf{'+ timeLabel+ r'}$')\n",
    "\n",
    "xlabel = \"{:s}\\,[{:s}]\".format(info.grid.axis[0].label,info.grid.axis[0].units)\n",
    "ylabel = \"{:s}\\,[{:s}]\".format(info.grid.axis[1].label,info.grid.axis[1].units)\n",
    "\n",
    "plt.xlabel(r'$\\sf{' +xlabel+ r'}$')\n",
    "plt.ylabel(r'$\\sf{' +ylabel+ r'}$')\n",
    "\n",
    "plt.grid(True)\n",
    "\n",
    "plt.show()"
   ]
  },
  {
   "cell_type": "code",
   "execution_count": null,
   "metadata": {
    "collapsed": true
   },
   "outputs": [],
   "source": []
  }
 ],
 "metadata": {
  "kernelspec": {
   "display_name": "Python 3",
   "language": "python",
   "name": "python3"
  },
  "language_info": {
   "codemirror_mode": {
    "name": "ipython",
    "version": 3
   },
   "file_extension": ".py",
   "mimetype": "text/x-python",
   "name": "python",
   "nbconvert_exporter": "python",
   "pygments_lexer": "ipython3",
   "version": "3.6.3"
  }
 },
 "nbformat": 4,
 "nbformat_minor": 2
}
