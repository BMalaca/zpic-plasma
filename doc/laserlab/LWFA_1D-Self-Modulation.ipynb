{
 "cells": [
  {
   "cell_type": "markdown",
   "metadata": {},
   "source": [
    "# Selfmodulated laser wakefield accelerator\n",
    "\n",
    "1D simulation of a laser self-modulated wakefield accelerator."
   ]
  },
  {
   "cell_type": "code",
   "execution_count": 16,
   "metadata": {},
   "outputs": [
    {
     "name": "stdout",
     "output_type": "stream",
     "text": [
      "\n",
      "Running simulation up to t = 1 ...\n",
      "n = 0, t = 0\r",
      "n = 1, t = 0.019\r",
      "n = 2, t = 0.038\r",
      "n = 3, t = 0.057\r",
      "n = 4, t = 0.076\r",
      "n = 5, t = 0.095\r",
      "n = 6, t = 0.114\r",
      "n = 7, t = 0.133\r",
      "n = 8, t = 0.152\r",
      "n = 9, t = 0.171\r",
      "n = 10, t = 0.19\r",
      "n = 11, t = 0.209\r",
      "n = 12, t = 0.228\r",
      "n = 13, t = 0.247\r",
      "n = 14, t = 0.266\r",
      "n = 15, t = 0.285\r",
      "n = 16, t = 0.304\r",
      "n = 17, t = 0.323\r",
      "n = 18, t = 0.342\r",
      "n = 19, t = 0.361\r",
      "n = 20, t = 0.38\r",
      "n = 21, t = 0.399\r",
      "n = 22, t = 0.418\r",
      "n = 23, t = 0.437\r",
      "n = 24, t = 0.456\r",
      "n = 25, t = 0.475\r",
      "n = 26, t = 0.494\r",
      "n = 27, t = 0.513\r",
      "n = 28, t = 0.532\r",
      "n = 29, t = 0.551\r",
      "n = 30, t = 0.57\r",
      "n = 31, t = 0.589\r",
      "n = 32, t = 0.608\r",
      "n = 33, t = 0.627\r",
      "n = 34, t = 0.646\r",
      "n = 35, t = 0.665\r",
      "n = 36, t = 0.684\r",
      "n = 37, t = 0.703\r",
      "n = 38, t = 0.722\r",
      "n = 39, t = 0.741\r",
      "n = 40, t = 0.76\r",
      "n = 41, t = 0.779\r",
      "n = 42, t = 0.798\r",
      "n = 43, t = 0.817\r",
      "n = 44, t = 0.836\r",
      "n = 45, t = 0.855\r",
      "n = 46, t = 0.874\r",
      "n = 47, t = 0.893\r",
      "n = 48, t = 0.912\r",
      "n = 49, t = 0.931\r",
      "n = 50, t = 0.95\r",
      "n = 51, t = 0.969\r",
      "n = 52, t = 0.988\r",
      "n = 53, t = 1.007\r\n",
      "Done.\n"
     ]
    }
   ],
   "source": [
    "import em1d\n",
    "import numpy\n",
    "\n",
    "# Time step\n",
    "dt = 0.019\n",
    "\n",
    "# Simulation time\n",
    "tmax = 100.\n",
    "\n",
    "# Number of cells\n",
    "nx  = 4000\n",
    "\n",
    "# Simulation box size\n",
    "box = 80.0\n",
    "\n",
    "\n",
    "## Background plasma\n",
    "\n",
    "# Particles per cell\n",
    "ppc = 10\n",
    "\n",
    "# Use a step density profile\n",
    "electrons = em1d.Species( \"electrons\", -1.0, ppc,\n",
    "                           density = em1d.Density( type = \"step\", start = 100.0))\n",
    "\n",
    "# Initialize simulation\n",
    "sim = em1d.Simulation( nx, box, dt, species = electrons )\n",
    "\n",
    "# Add laser pulse 1\n",
    "sim.add_laser( em1d.Laser( start = 77.0, rise = 2.0, flat = 30.0, fall = 30.0, a0 = 0.5, omega0 = 10.0, \n",
    "                          polarization = numpy.pi/2 ))\n",
    "\n",
    "# Add laser pulse 2\n",
    "sim.add_laser( em1d.Laser( start = 77.0, rise = 2.0, flat = 30.0, fall = 30.0, a0 = 0.025, omega0 = 11.0, \n",
    "                          polarization = numpy.pi/2 ))\n",
    "\n",
    "# Add laser pulse 3\n",
    "sim.add_laser( em1d.Laser( start = 77.0, rise = 2.0, flat = 30.0, fall = 3.0,a0 = 0.025, omega0 = 9.0, \n",
    "                          polarization = numpy.pi/2 ))\n",
    "\n",
    "\n",
    "# Set moving window\n",
    "sim.set_moving_window()\n",
    "\n",
    "# Set current smoothing\n",
    "sim.set_smooth( em1d.Smooth(xtype = \"compensated\", xlevel = 4) )\n",
    "\n",
    "# Run the simulation\n",
    "\n",
    "sim.run( 1 )"
   ]
  },
  {
   "cell_type": "markdown",
   "metadata": {},
   "source": [
    "## Longitudinal Electric field and Plasma Density"
   ]
  },
  {
   "cell_type": "code",
   "execution_count": 13,
   "metadata": {},
   "outputs": [
    {
     "name": "stdout",
     "output_type": "stream",
     "text": [
      "\n",
      "Running simulation up to t = 300 ...\n",
      "n = 15790, t = 300.011\n",
      "Done.\n"
     ]
    }
   ],
   "source": [
    "sim.run( 300 )"
   ]
  },
  {
   "cell_type": "code",
   "execution_count": 17,
   "metadata": {},
   "outputs": [
    {
     "data": {
      "image/png": "[encoded data removed]",
      "text/plain": [
       "<Figure size 432x288 with 2 Axes>"
      ]
     },
     "metadata": {
      "needs_background": "light"
     },
     "output_type": "display_data"
    }
   ],
   "source": [
    "import matplotlib.pyplot as plt\n",
    "\n",
    "fig, ax1 = plt.subplots()\n",
    "\n",
    "# Plot values at the center of the cells\n",
    "xmin = sim.emf.dx/2\n",
    "xmax = sim.emf.box - sim.emf.dx/2\n",
    "\n",
    "ax1.plot(numpy.linspace(xmin, xmax, num = sim.nx), sim.emf.Ex, label = \"$E_1$\" )\n",
    "ax1.set_xlabel(\"x1\")\n",
    "ax1.set_ylabel(\"E1\")\n",
    "\n",
    "#ax2 = ax1.twinx()\n",
    "#ax2.plot(numpy.linspace(xmin, xmax, num = sim.nx), numpy.abs(electrons.charge()),'r', label = \"$|n|$\" , alpha = 0.8)\n",
    "#ax2.set_ylabel(\"|$n$|\")\n",
    "#ax2.set_ylim(0.5,1.5)\n",
    "\n",
    "ax3 = ax1.twinx()\n",
    "ax3.plot(numpy.linspace(xmin, xmax, num = sim.nx), sim.emf.Ez, 'r',label = \"$E_3$\" , alpha = 0.5)\n",
    "ax3.set_ylabel(\"E_3\")\n",
    "ax3.set_ylim(-12,12)\n",
    "\n",
    "plt.title(\"Longitudinal Electric Field and Plasma Density\\n t = {:g}\".format(sim.t))\n",
    "plt.grid(True)\n",
    "\n",
    "fig.legend(loc = (0.75,0.70))\n",
    "fig.tight_layout()\n",
    "\n",
    "plt.show()"
   ]
  },
  {
   "cell_type": "markdown",
   "metadata": {},
   "source": [
    "## x1 - u1 Phasespace"
   ]
  },
  {
   "cell_type": "code",
   "execution_count": 15,
   "metadata": {},
   "outputs": [
    {
     "data": {
      "image/png": "[encoded data removed]",
      "text/plain": [
       "<Figure size 432x288 with 1 Axes>"
      ]
     },
     "metadata": {
      "needs_background": "light"
     },
     "output_type": "display_data"
    }
   ],
   "source": [
    "import matplotlib.pyplot as plt\n",
    "\n",
    "# Simple function to convert particle positions\n",
    "x = lambda s : (s.particles['ix'] + s.particles['x']) * s.dx\n",
    "\n",
    "plt.plot(x(electrons),  electrons.particles['ux'],  '.', ms = 0.2)\n",
    "plt.xlabel(\"x1\")\n",
    "plt.ylabel(\"u1\")\n",
    "plt.title(\"u1-x1 phasespace\\nt = {:g}\".format(sim.t))\n",
    "plt.grid(True)\n",
    "plt.show()"
   ]
  }
 ],
 "metadata": {
  "kernelspec": {
   "display_name": "Python 3",
   "language": "python",
   "name": "python3"
  },
  "language_info": {
   "codemirror_mode": {
    "name": "ipython",
    "version": 3
   },
   "file_extension": ".py",
   "mimetype": "text/x-python",
   "name": "python",
   "nbconvert_exporter": "python",
   "pygments_lexer": "ipython3",
   "version": "3.9.0"
  }
 },
 "nbformat": 4,
 "nbformat_minor": 2
}
